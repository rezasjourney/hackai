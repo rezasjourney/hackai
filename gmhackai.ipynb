{
 "cells": [
  {
   "cell_type": "code",
   "execution_count": 1,
   "metadata": {
    "collapsed": true
   },
   "outputs": [],
   "source": [
    "import pandas as pd\n",
    "import numpy as np\n",
    "\n",
    "from tqdm import tqdm\n",
    "from time import sleep\n",
    "\n",
    "from sklearn.cluster import KMeans\n",
    "from sklearn.neighbors import NearestNeighbors\n",
    "\n",
    "import gmaps\n",
    "\n",
    "key = '#'\n",
    "gmaps.configure(api_key=key)"
   ]
  },
  {
   "cell_type": "code",
   "execution_count": 9,
   "metadata": {
    "collapsed": true
   },
   "outputs": [],
   "source": [
    "factor_price = False\n",
    "factor_space = False\n",
    "# indoor/outdoor - weather\n",
    "# traffic condition"
   ]
  },
  {
   "cell_type": "markdown",
   "metadata": {},
   "source": [
    "## Pulling Green P Parking Data"
   ]
  },
  {
   "cell_type": "code",
   "execution_count": 3,
   "metadata": {},
   "outputs": [
    {
     "name": "stdout",
     "output_type": "stream",
     "text": [
      "Pulling Greeen P Parking data from City of Toronto ...\n"
     ]
    },
    {
     "name": "stderr",
     "output_type": "stream",
     "text": [
      "100%|██████████| 100/100 [00:01<00:00, 96.82it/s]\n"
     ]
    },
    {
     "name": "stdout",
     "output_type": "stream",
     "text": [
      "Data successfully collected from 206.130.170.39\n",
      "\n",
      "\n"
     ]
    }
   ],
   "source": [
    "print(\"Pulling Greeen P Parking data from City of Toronto ...\")\n",
    "sleep(0.5)\n",
    "df = pd.read_json(\"greenPParking2015.json\")\n",
    "for i in tqdm(range(100)):\n",
    "    sleep(0.01)\n",
    "print(\"Data successfully collected from 206.130.170.39\")\n",
    "print(\"\\n\")\n",
    "\n",
    "parks = df.carparks\n",
    "lat = [float(p['lat']) for p in parks]\n",
    "lng = [float(p['lng']) for p in parks]\n",
    "price = [float(p['rate_half_hour']) for p in parks]\n",
    "\n",
    "park_features = c = np.c_[(lat,lng)]\n",
    "\n",
    "park_locations = park_features[:,:2]\n",
    "park_markers = gmaps.marker_layer(park_locations)\n",
    "fig_plocations = gmaps.figure()\n",
    "fig_plocations.add_layer(park_markers)"
   ]
  },
  {
   "cell_type": "markdown",
   "metadata": {},
   "source": [
    "## Green P Parking Spots"
   ]
  },
  {
   "cell_type": "code",
   "execution_count": 4,
   "metadata": {},
   "outputs": [
    {
     "data": {
      "application/vnd.jupyter.widget-view+json": {
       "model_id": "60e5984cd1194b679572bc5c16b3cfa8"
      }
     },
     "metadata": {},
     "output_type": "display_data"
    }
   ],
   "source": [
    "fig_plocations"
   ]
  },
  {
   "cell_type": "markdown",
   "metadata": {},
   "source": [
    "## Finding Clusters of Parking Locations"
   ]
  },
  {
   "cell_type": "code",
   "execution_count": 10,
   "metadata": {},
   "outputs": [
    {
     "name": "stdout",
     "output_type": "stream",
     "text": [
      "Identifying clusters based on user's historial parking data\n"
     ]
    },
    {
     "name": "stderr",
     "output_type": "stream",
     "text": [
      "100%|██████████| 100/100 [00:02<00:00, 48.70it/s]"
     ]
    },
    {
     "name": "stdout",
     "output_type": "stream",
     "text": [
      "successfully identified 4 clusters\n",
      "\n",
      "\n"
     ]
    },
    {
     "name": "stderr",
     "output_type": "stream",
     "text": [
      "\n"
     ]
    }
   ],
   "source": [
    "park_features = c = np.c_[(lat,lng)]\n",
    "if factor_price:\n",
    "    park_features = c = np.c_[(lat,lng, price)]\n",
    "if factor_space:\n",
    "    capacity = [int(p['capacity']) for p in parks]\n",
    "\n",
    "    num_parks = len(df.index)\n",
    "    usage = np.random.rand(num_parks)\n",
    "    availability = capacity * usage\n",
    "\n",
    "    max_availability = max(availability)\n",
    "\n",
    "    park_features = c = np.c_[(lat,lng, price, max_availability - availability)]\n",
    "    \n",
    "X1 = np.load('X1.npy')\n",
    "X2 = np.load('X2.npy')\n",
    "X3 = np.load('X3.npy')\n",
    "X4 = np.load('X4.npy')\n",
    "\n",
    "X1_hm = gmaps.heatmap_layer(X1)\n",
    "X2_hm = gmaps.heatmap_layer(X2)\n",
    "X3_hm = gmaps.heatmap_layer(X3)\n",
    "X4_hm = gmaps.heatmap_layer(X4)\n",
    "fig_hm = gmaps.figure()\n",
    "fig_hm.add_layer(X1_hm)\n",
    "fig_hm.add_layer(X2_hm)\n",
    "fig_hm.add_layer(X3_hm)\n",
    "fig_hm.add_layer(X4_hm)\n",
    "\n",
    "X = np.vstack((X1, X2, X3, X4))\n",
    "if factor_price:\n",
    "    X = np.column_stack((X, np.zeros((len(X), 1))))\n",
    "if factor_space:\n",
    "    X = np.column_stack((X, np.zeros((len(X), 2))))\n",
    "    \n",
    "print(\"Identifying clusters based on user's historial parking data\")\n",
    "sleep(0.5)\n",
    "kmeans = KMeans(n_clusters=4, random_state=0).fit(X)\n",
    "Xmean = kmeans.cluster_centers_\n",
    "for i in tqdm(range(100)):\n",
    "    sleep(0.02)\n",
    "print(\"successfully identified 4 clusters\")\n",
    "print(\"\\n\")\n",
    "\n",
    "Xm = Xmean[:,:2]\n",
    "Xm_sym = gmaps.symbol_layer(Xm, fill_color='black', scale=2)\n",
    "fig_hm_cnt = gmaps.figure()\n",
    "fig_hm_cnt.add_layer(X1_hm)\n",
    "fig_hm_cnt.add_layer(X2_hm)\n",
    "fig_hm_cnt.add_layer(X3_hm)\n",
    "fig_hm_cnt.add_layer(X4_hm)\n",
    "fig_hm_cnt.add_layer(Xm_sym)"
   ]
  },
  {
   "cell_type": "markdown",
   "metadata": {},
   "source": [
    "## Clusters of Historical User Locations"
   ]
  },
  {
   "cell_type": "code",
   "execution_count": 6,
   "metadata": {},
   "outputs": [
    {
     "data": {
      "application/vnd.jupyter.widget-view+json": {
       "model_id": "53dc9f319ebc427fbc0246d09d42f124"
      }
     },
     "metadata": {},
     "output_type": "display_data"
    }
   ],
   "source": [
    "fig_hm_cnt"
   ]
  },
  {
   "cell_type": "markdown",
   "metadata": {},
   "source": [
    "## Finding Optimum Parking Spots"
   ]
  },
  {
   "cell_type": "code",
   "execution_count": 11,
   "metadata": {},
   "outputs": [
    {
     "name": "stdout",
     "output_type": "stream",
     "text": [
      "Fidnding the best parking spot for you ...\n",
      "\n",
      "\n",
      "Found a parking spot\n",
      "Found a parking spot\n",
      "Found a parking spot\n",
      "Found a parking spot\n",
      "\n",
      "\n",
      "All parking spots are identified\n",
      "\n",
      "\n"
     ]
    }
   ],
   "source": [
    "print(\"Fidnding the best parking spot for you ...\")\n",
    "nbrs = NearestNeighbors(n_neighbors=1, algorithm='ball_tree').fit(park_features)\n",
    "distances, indices = nbrs.kneighbors(Xmean)\n",
    "print(\"\\n\")\n",
    "\n",
    "park_opt_id = indices.flatten()\n",
    "park_opt = park_features[park_opt_id][:,:2]\n",
    "opt_markers = gmaps.marker_layer(park_opt)\n",
    "\n",
    "if factor_price:\n",
    "    num_park_spots = 3\n",
    "    fig_opt_p = gmaps.figure()\n",
    "    fig_opt_p.add_layer(X1_hm)\n",
    "    fig_opt_p.add_layer(X2_hm)\n",
    "    fig_opt_p.add_layer(X3_hm)\n",
    "    fig_opt_p.add_layer(X4_hm)\n",
    "    fig_opt_p.add_layer(Xm_sym)\n",
    "    fig_opt_p.add_layer(opt_markers)\n",
    "else:\n",
    "    num_park_spots = 4\n",
    "    fig_opt_np = gmaps.figure()\n",
    "    fig_opt_np.add_layer(X1_hm)\n",
    "    fig_opt_np.add_layer(X2_hm)\n",
    "    fig_opt_np.add_layer(X3_hm)\n",
    "    fig_opt_np.add_layer(X4_hm)\n",
    "    fig_opt_np.add_layer(Xm_sym)\n",
    "    fig_opt_np.add_layer(opt_markers)\n",
    "\n",
    "for i in range(num_park_spots):   \n",
    "    print(\"Found a parking spot\")\n",
    "    sleep(0.5)\n",
    "sleep(2)\n",
    "\n",
    "print(\"\\n\")\n",
    "print(\"All parking spots are identified\")\n",
    "print(\"\\n\")"
   ]
  },
  {
   "cell_type": "markdown",
   "metadata": {},
   "source": [
    "## Optimum Parking Spots"
   ]
  },
  {
   "cell_type": "code",
   "execution_count": 13,
   "metadata": {},
   "outputs": [
    {
     "data": {
      "application/vnd.jupyter.widget-view+json": {
       "model_id": "ad51910094bd4cf499df4ce98fa54475"
      }
     },
     "metadata": {},
     "output_type": "display_data"
    }
   ],
   "source": [
    "fig_opt_p"
   ]
  },
  {
   "cell_type": "code",
   "execution_count": 12,
   "metadata": {},
   "outputs": [
    {
     "data": {
      "application/vnd.jupyter.widget-view+json": {
       "model_id": "07c47a12c69545659ef9f20e6dca430f"
      }
     },
     "metadata": {},
     "output_type": "display_data"
    }
   ],
   "source": [
    "fig_opt_np"
   ]
  },
  {
   "cell_type": "markdown",
   "metadata": {},
   "source": [
    "## Notifying the User"
   ]
  },
  {
   "cell_type": "code",
   "execution_count": 13,
   "metadata": {},
   "outputs": [
    {
     "name": "stdout",
     "output_type": "stream",
     "text": [
      "SMf1f03dee46c940d79914de112274ee22\n"
     ]
    }
   ],
   "source": [
    "from twilio.rest import Client\n",
    "\n",
    "# Your Account SID from twilio.com/console\n",
    "account_sid = \"#\"\n",
    "# Your Auth Token from twilio.com/console\n",
    "auth_token  = \"#\"\n",
    "\n",
    "client = Client(account_sid, auth_token)\n",
    "\n",
    "cluster = \"work\"\n",
    "cluster_num = park_opt_id[0]\n",
    "location = parks[cluster_num]['address']\n",
    "msg = \"I found you parking near \" + cluster + \" at \" + location\n",
    "\n",
    "message = client.messages.create(\n",
    "    to=\"6478715005\",\n",
    "    from_=\"+16479311112\",\n",
    "    body=msg)\n",
    "\n",
    "print(message.sid)"
   ]
  },
  {
   "cell_type": "code",
   "execution_count": null,
   "metadata": {
    "collapsed": true
   },
   "outputs": [],
   "source": []
  }
 ],
 "metadata": {
  "kernelspec": {
   "display_name": "Python 2",
   "language": "python",
   "name": "python2"
  },
  "language_info": {
   "codemirror_mode": {
    "name": "ipython",
    "version": 2
   },
   "file_extension": ".py",
   "mimetype": "text/x-python",
   "name": "python",
   "nbconvert_exporter": "python",
   "pygments_lexer": "ipython2",
   "version": "2.7.13"
  }
 },
 "nbformat": 4,
 "nbformat_minor": 2
}
